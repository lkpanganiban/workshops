{
 "cells": [
  {
   "attachments": {},
   "cell_type": "markdown",
   "id": "fb112202",
   "metadata": {},
   "source": [
    "# Python 101\n",
    "\n",
    "**Welcome to the Python 101 Notebook!**\n",
    "\n",
    "The notebook showcases the power of Python as programming language. This aims to be an introductory session for people who are starting with programming and python. It will not introduce advance concepts like OOP, clean code, etc. \n",
    "\n",
    "**Note: This is not a definitive guide.**\n",
    "\n",
    "## What is Python?\n",
    "\n",
    "Python was released by Guido Van Rossum back in 1991. Python is a **high-level, general-purpose** programming language. Its design philosophy emphasizes code readability with the use of significant indentation via the off-side rule.\n",
    "\n",
    "Python is **dynamically typed and garbage-collected**. It supports multiple programming paradigms, including structured (particularly procedural), object-oriented and functional programming. It is often described as a **batteries included** language due to its comprehensive standard library\n",
    "\n",
    "Python is a powerful programming language which allows you to develop various systems:\n",
    "\n",
    " - Web Apps\n",
    " - Machine Learning Systems\n",
    " - Games\n",
    " - Ordinary Automation Scripts\n",
    " - ....Many more\n",
    " \n"
   ]
  },
  {
   "attachments": {},
   "cell_type": "markdown",
   "id": "6ea33303",
   "metadata": {},
   "source": [
    "## The Print Function \n",
    "\n",
    "Printing is commonly use in python to check the results of our computation. Even experienced programmers use the **print()** function to debug or troubleshoot their codebase.\n",
    "\n",
    "### Syntax\n",
    "- print(\"Hello World!\")"
   ]
  },
  {
   "cell_type": "code",
   "execution_count": null,
   "id": "25695856",
   "metadata": {},
   "outputs": [
    {
     "name": "stdout",
     "output_type": "stream",
     "text": [
      "my name\n"
     ]
    }
   ],
   "source": [
    "# print your nickname \n",
    "print(\"my name\")"
   ]
  },
  {
   "attachments": {},
   "cell_type": "markdown",
   "id": "5f4c5038",
   "metadata": {},
   "source": [
    "## Variables and Data Types\n",
    "\n",
    "Python like any programming language allows you to store information or data. We call this \"storage\" as variables. Variables are used to \"alias\" the information for it to be readable and can be accessed quickly by the other parts of your system. Unlike other programming languages though, it allows variables and data to be dynamically typed where you don't need to implicitly define the data type.\n",
    "\n",
    "To declare a variable you need to give it a `name` and `value` e.g. `p = \"hello\"`\n",
    "\n",
    "### Syntax\n",
    "\n",
    "- x = \"hello world\" # this is a string\n",
    "- y = 1 # this is an integer\n",
    "- z = 2.1 # this is a float\n",
    "- a = False # this is a boolean\n",
    "- b = [1,2,3] # this is a list of integers\n",
    "- c = {\"key\": \"value\"} # this is a dictionary\n",
    "\n",
    "**NOTE: Variable names cannot start with a number.**"
   ]
  },
  {
   "cell_type": "code",
   "execution_count": null,
   "id": "da4b6642",
   "metadata": {},
   "outputs": [],
   "source": [
    "## Create a variable x and set it to a string \"ausome maps!\"\n"
   ]
  },
  {
   "cell_type": "code",
   "execution_count": null,
   "id": "f4d62ddd",
   "metadata": {},
   "outputs": [],
   "source": [
    "## Create a variables y and z set them to float 1.2, and integer 9 respectively\n"
   ]
  },
  {
   "cell_type": "code",
   "execution_count": null,
   "id": "b17a4f4c",
   "metadata": {},
   "outputs": [],
   "source": [
    "# Create a variable 1 and set it to string \"this is wrong!\"\n"
   ]
  },
  {
   "attachments": {},
   "cell_type": "markdown",
   "id": "a939ac76",
   "metadata": {},
   "source": [
    "## Calculations and Operations\n",
    "\n",
    "Like any programming language, Python allows you to do various operations like sum, subtract, multiply, divide, comparison, etc. We can make use of variables to make our operations more readable and allows for reuse to the other parts of our codebase.\n",
    "\n",
    "### Syntax\n",
    "- a + b + c # adding multiple variables\n",
    "- a > b # comparing variables"
   ]
  },
  {
   "cell_type": "code",
   "execution_count": null,
   "id": "a0218788",
   "metadata": {},
   "outputs": [],
   "source": [
    "# Using the previous variables y and z, create another variable sum_of_y_and_z and add variables y and z\n",
    "# and print the variable sum_of_y_and_z.\n"
   ]
  },
  {
   "attachments": {},
   "cell_type": "markdown",
   "id": "f094a511",
   "metadata": {},
   "source": [
    "## The List Data Type\n",
    "\n",
    "We will be dealing with the list type. The list data types allow the storing of multiple values and multiple data types. \n",
    "\n",
    "### Syntax\n",
    "- this_is_a_list_of_numbers = [0, 2, 4, 6, 10, 2]\n",
    "- this_is_a_list_of_mixed_data_types = [1, 2.3, \"2.3\", 4.1, 0, False]"
   ]
  },
  {
   "cell_type": "code",
   "execution_count": null,
   "id": "617f41a3",
   "metadata": {},
   "outputs": [],
   "source": [
    "# create a variable list_of_fruits and store the the following \"orange\", \"banana\", \"saging\", \"apple\"\n"
   ]
  },
  {
   "attachments": {},
   "cell_type": "markdown",
   "id": "54aa9529",
   "metadata": {},
   "source": [
    "## Iterating the List Data Type and Defining the Flow\n",
    "\n",
    "When dealing with the list data type, we want to apply to some sort of operation to some or all of the contents of the list.\n",
    "\n",
    "### Syntax\n",
    "\n",
    "```python\n",
    "cars = [\"ferrari\", \"toyota\", \"mitsubishi\", \"ford\"]\n",
    "\n",
    "for car in cars:\n",
    "    print(car)\n",
    "```"
   ]
  },
  {
   "cell_type": "code",
   "execution_count": null,
   "id": "55db545e",
   "metadata": {},
   "outputs": [],
   "source": [
    "## using the list_of_fruits variable print through the contents of this list.\n"
   ]
  },
  {
   "cell_type": "markdown",
   "id": "6f5dc9ee",
   "metadata": {},
   "source": [
    "## List Operations\n",
    "\n",
    "There are a number of `list` operations that you can do.\n",
    "\n",
    "- `append` - adding elements to the end of the list\n",
    "- `+` - combining multiple lists\n",
    "- `insert` - insert an element to specific index of the list\n",
    "- `remove` - remove an element to the list\n",
    "- ...\n",
    "\n",
    "You can take a look at the following [link](https://www.educba.com/list-operations-in-python/) for the commonly used list operations."
   ]
  },
  {
   "cell_type": "code",
   "execution_count": null,
   "id": "5b4e6a04",
   "metadata": {},
   "outputs": [],
   "source": [
    "# try to practice using list operations\n",
    "list1 = [1,2,3,4]\n",
    "list2 = [\"hello\", \"my\", \"name\", \"is\", \"tom\"]\n"
   ]
  },
  {
   "attachments": {},
   "cell_type": "markdown",
   "id": "e8be9954",
   "metadata": {},
   "source": [
    "## Conditionals and Logic Control\n",
    "\n",
    "One of the operations was the data comparison. It allows to compare 2 or more data and if the comparison satisfies a certain condition it may do some work. \n",
    "\n",
    "### Syntax\n",
    "```python\n",
    "a = 1\n",
    "b = 5\n",
    "\n",
    "if a > b: # you can also do the following operation >=, <=, ==, !=\n",
    "    print(b)\n",
    "else:\n",
    "    print(\"a < b\")\n",
    "```"
   ]
  },
  {
   "cell_type": "code",
   "execution_count": null,
   "id": "0defdcda",
   "metadata": {},
   "outputs": [],
   "source": [
    "## define a variable tom_like_the_fruit = \"apple\".\n",
    "\n",
    "\n",
    "## Create a conditional that compares this variable to \"banana\" and print the statement \"tom doesn't like banana\"\n"
   ]
  },
  {
   "attachments": {},
   "cell_type": "markdown",
   "id": "abe665e9",
   "metadata": {},
   "source": [
    "## Controlling the Flow with Logic Control\n",
    "\n",
    "Using the concepts of the `Conditionals` and `Iteration`, we can build a more complex flow.\n",
    "\n",
    "### Syntax\n",
    "\n",
    "```python\n",
    "car_i_like = \"tesla\"\n",
    "\n",
    "cars_that_you_have = [\"toyota\", \"ford\", \"mitsubishi\", \"tesla\"]\n",
    "\n",
    "for car in cars_that_you_have:\n",
    "    if car == car_i_like:\n",
    "        print(\"you have the car that i like\")\n",
    "\n",
    "```"
   ]
  },
  {
   "cell_type": "code",
   "execution_count": null,
   "id": "192fc6e9",
   "metadata": {},
   "outputs": [],
   "source": [
    "## using the list_of_fruits variable, does it contain the fruit liked by tom?\n"
   ]
  },
  {
   "cell_type": "markdown",
   "id": "b6dcbf76",
   "metadata": {},
   "source": [
    "## Reading and Writing Files\n",
    "\n",
    "Python provides a way to read a write files. \n",
    "\n",
    "### Modes\n",
    "- `r` - reading files\n",
    "- `w` - writing files\n",
    "\n",
    "### Syntax\n",
    "\n",
    "```python\n",
    "\n",
    "# reading from a text file\n",
    "with open(\"file-path.txt\", 'r') as file_to_be_read:\n",
    "    lines = file_to_be_read.readlines()\n",
    "    for line in lines:\n",
    "        print(line)\n",
    "\n",
    "# writing to a text file\n",
    "with open(\"file-path.txt\", 'w') as file_to_write:\n",
    "    lines = [\"hello\", \"world\"]\n",
    "    for line in lines:\n",
    "        file_to_write.write('line' + '\\n')\n",
    "```"
   ]
  },
  {
   "attachments": {},
   "cell_type": "markdown",
   "id": "713c8956",
   "metadata": {},
   "source": [
    "# Other Things\n",
    "\n",
    "## Functions to Consolidate Logic\n",
    "Python provides a way to package or consolidate your logic into reusable components. It accepts parameters; parameters are variables that can be used inside the function. These parameters are local only to the function.\n",
    "\n",
    "### Syntax\n",
    "```python\n",
    "\n",
    "def check_in_list(list_to_be_checked, element_to_check):\n",
    "    return_element = \"You don't have the car that I like.\"\n",
    "    for element in list_to_be_checked:\n",
    "        if element == element_to_check:\n",
    "            return_element = \"You have the car that I like\"\n",
    "            break\n",
    "    return return_element\n",
    "\n",
    "\n",
    "car_i_like = \"tesla\"\n",
    "\n",
    "cars_that_you_have = [\"toyota\", \"ford\", \"mitsubishi\", \"tesla\"]\n",
    "check_in_list(cars_that_you_have, car_i_like)\n",
    "```"
   ]
  },
  {
   "cell_type": "code",
   "execution_count": 4,
   "id": "0c18c0e5",
   "metadata": {},
   "outputs": [],
   "source": [
    "# copy the code above and paste it to this cell\n"
   ]
  },
  {
   "attachments": {},
   "cell_type": "markdown",
   "id": "69e66b9c",
   "metadata": {},
   "source": [
    "# Conclusion\n",
    "\n",
    "You have just finished the run through of python. Python has a rich ecosystem of tools and libraries. It is up to you on how to use these tools. "
   ]
  },
  {
   "cell_type": "code",
   "execution_count": null,
   "id": "77da5f3a",
   "metadata": {},
   "outputs": [],
   "source": []
  }
 ],
 "metadata": {
  "kernelspec": {
   "display_name": "Python 3 (ipykernel)",
   "language": "python",
   "name": "python3"
  },
  "language_info": {
   "codemirror_mode": {
    "name": "ipython",
    "version": 3
   },
   "file_extension": ".py",
   "mimetype": "text/x-python",
   "name": "python",
   "nbconvert_exporter": "python",
   "pygments_lexer": "ipython3",
   "version": "3.11.4"
  }
 },
 "nbformat": 4,
 "nbformat_minor": 5
}
